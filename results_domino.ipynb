{
 "cells": [
  {
   "cell_type": "code",
   "execution_count": 1,
   "metadata": {},
   "outputs": [],
   "source": [
    "from src.problems.domino import Domino, bigger, random_player, hardest, random_players, random_hands, hardest_bigger\n",
    "from src.choices.logChoice import LogChoice\n",
    "from src.choices.bigChoice import BigChoice\n",
    "from src.choicesParameters.fixedParameters import FixedParameters\n",
    "import numpy as np\n",
    "import random\n",
    "from src.choicesParameters.metaheuristicParameters import PSOParameters\n",
    "from src.choicesParameters.transformerParameters import TransformerParametersSVD, TransformerParametersSequential"
   ]
  },
  {
   "cell_type": "code",
   "execution_count": 2,
   "metadata": {},
   "outputs": [],
   "source": [
    "choice = LogChoice()\n",
    "\n",
    "choiceParameters = FixedParameters()\n",
    "problem = Domino(choice, choiceParameters)\n",
    "\n",
    "psoParameters = PSOParameters()\n",
    "problemFit = Domino(choice, psoParameters)"
   ]
  },
  {
   "cell_type": "code",
   "execution_count": 3,
   "metadata": {},
   "outputs": [],
   "source": [
    "def get_sequences_from_start(list):\n",
    "    return [list[:pos + 1] for pos in range(len(list))]"
   ]
  },
  {
   "cell_type": "code",
   "execution_count": 4,
   "metadata": {},
   "outputs": [],
   "source": [
    "X, Y = [], []"
   ]
  },
  {
   "cell_type": "code",
   "execution_count": null,
   "metadata": {},
   "outputs": [],
   "source": [
    "for c in range(500):\n",
    "    players, main_player = random_players([bigger, hardest, random_player], 4, hardest_bigger)\n",
    "    hands = random_hands(len(players))\n",
    "\n",
    "    count_fitness = 100\n",
    "\n",
    "    def fitness(p):\n",
    "        losses = 0\n",
    "\n",
    "        choiceParameters.set(p[0])\n",
    "\n",
    "        for i in range(count_fitness):\n",
    "            ch = [[f for f in hand] for hand in hands]\n",
    "            ws = problem.run(ch, players, main_player)\n",
    "\n",
    "            if isinstance(ws, int) and ws != main_player:\n",
    "                losses += 1\n",
    "            elif isinstance(ws, list) and main_player not in ws:\n",
    "                losses += 1\n",
    "\n",
    "        return losses\n",
    "\n",
    "    score, p = psoParameters.fit(fitness, choice.apply_constraints, choice.count_params(), 20, 25)\n",
    "    print(score)\n",
    "\n",
    "    ch = [[f for f in hand] for hand in hands]\n",
    "    problemFit.run(ch, players, main_player)\n",
    "\n",
    "    X.extend(get_sequences_from_start(problemFit.embeddings))\n",
    "    Y.extend([p] * len(problemFit.embeddings))"
   ]
  },
  {
   "cell_type": "code",
   "execution_count": 6,
   "metadata": {},
   "outputs": [],
   "source": [
    "transformerParameters = TransformerParametersSVD(2, 256)"
   ]
  },
  {
   "cell_type": "code",
   "execution_count": null,
   "metadata": {},
   "outputs": [],
   "source": [
    "preds, error = transformerParameters.train(X, Y, 100)\n",
    "print(error)"
   ]
  },
  {
   "cell_type": "code",
   "execution_count": null,
   "metadata": {},
   "outputs": [],
   "source": [
    "problemTrans = Domino(choice, transformerParameters)\n",
    "\n",
    "count = 200\n",
    "losses = 0\n",
    "\n",
    "for i in range(count):\n",
    "    players, main_player = random_players([bigger, hardest, random_player], 4, hardest_bigger)\n",
    "    hands = random_hands(len(players))\n",
    "    ws = problemTrans.run(hands, players, main_player)\n",
    "\n",
    "    if isinstance(ws, int) and ws != main_player:\n",
    "        losses += 1\n",
    "    elif isinstance(ws, list) and main_player not in ws:\n",
    "        losses += 1\n",
    "\n",
    "print(losses)"
   ]
  }
 ],
 "metadata": {
  "kernelspec": {
   "display_name": ".venv",
   "language": "python",
   "name": "python3"
  },
  "language_info": {
   "codemirror_mode": {
    "name": "ipython",
    "version": 3
   },
   "file_extension": ".py",
   "mimetype": "text/x-python",
   "name": "python",
   "nbconvert_exporter": "python",
   "pygments_lexer": "ipython3",
   "version": "3.9.7"
  }
 },
 "nbformat": 4,
 "nbformat_minor": 2
}
