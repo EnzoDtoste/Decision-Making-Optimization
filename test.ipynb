{
 "cells": [
  {
   "cell_type": "code",
   "execution_count": 1,
   "metadata": {},
   "outputs": [],
   "source": [
    "from memory_reveal_cards_game import MemoryGame\n",
    "from minimum_vertex_cover_vertices import MinimumVertexCoverVertices\n",
    "from domino import Domino, bigger, random_player, hardest, random_players, random_hands, hardest_bigger\n",
    "from logChoice import LogChoice\n",
    "from bigChoice import BigChoice\n",
    "from fixedParameters import FixedParameters\n",
    "from pso import pso_solve\n",
    "import numpy as np\n",
    "import random\n",
    "from utils import smallest_dominating_set, greedy_dominating_set, generate_random_graph\n",
    "from metaheuristicParameters import PSOParameters\n",
    "from transformerParameters import TransformerParametersSVD, TransformerParametersSequential"
   ]
  },
  {
   "cell_type": "code",
   "execution_count": 3,
   "metadata": {},
   "outputs": [],
   "source": [
    "choice = LogChoice()\n",
    "choiceParameters = FixedParameters()\n",
    "problem = MemoryGame(choice, choiceParameters, 0.01, 36, 50)"
   ]
  },
  {
   "cell_type": "code",
   "execution_count": 4,
   "metadata": {},
   "outputs": [
    {
     "name": "stderr",
     "output_type": "stream",
     "text": [
      "d:\\SVD\\tesis\\logChoice.py:11: RuntimeWarning: overflow encountered in scalar power\n",
      "  exp = x ** (1 / b)\n"
     ]
    },
    {
     "name": "stdout",
     "output_type": "stream",
     "text": [
      "[[ 0.17213467 -0.18865357]]\n",
      "1.7919999999999998\n"
     ]
    }
   ],
   "source": [
    "init_positions = lambda num_particles: [np.random.random((1, 2)) * 2 - 1 for i in range(num_particles)]\n",
    "init_velocities = lambda num_particles: [np.zeros((1, 2)) for i in range(num_particles)]   \n",
    "\n",
    "def fitness(p):\n",
    "    total = 0\n",
    "    count = 10\n",
    "    ol = 0\n",
    "\n",
    "    choiceParameters.set(p[0][0], p[0][1])\n",
    "\n",
    "    for i in range(count):\n",
    "        cards = problem.random_cards()\n",
    "        v = problem.run(cards)\n",
    "\n",
    "        if v == problem.limit:\n",
    "            ol += 1\n",
    "        else:\n",
    "            total += v\n",
    "\n",
    "    if count > ol:\n",
    "        return ol + 2 * (total / (count - ol)) / problem.limit\n",
    "    else:\n",
    "        return ol + 2\n",
    "\n",
    "p, score, positions, velocities = pso_solve(20, 10\n",
    "                                            , init_positions\n",
    "                                            , init_velocities\n",
    "                                            , fitness\n",
    "                                            , lambda p: choice.apply_constraints(p[0][0], p[0][1])\n",
    "                                            , lambda score: score < 0.8\n",
    "                                            , False\n",
    "                                            )\n",
    "\n",
    "print(p)\n",
    "print(score)"
   ]
  },
  {
   "cell_type": "code",
   "execution_count": 13,
   "metadata": {},
   "outputs": [],
   "source": [
    "def test(choice, p):\n",
    "    choiceParameters = FixedParameters()\n",
    "    problem = MemoryGame(choice, choiceParameters, 0.03, 36, 1000)\n",
    "    total = 0\n",
    "    count = 100\n",
    "    ol = 0\n",
    "    choiceParameters.set(p[0][0], p[0][1])\n",
    "\n",
    "    for i in range(count):\n",
    "        cards = problem.random_cards()\n",
    "        v = problem.run(cards)\n",
    "\n",
    "        if v == problem.limit:\n",
    "            ol += 1\n",
    "        else:\n",
    "            total += v\n",
    "\n",
    "    if count > ol:\n",
    "        print(total / (count - ol), ol)\n",
    "    else:\n",
    "        print(ol)"
   ]
  },
  {
   "cell_type": "code",
   "execution_count": 14,
   "metadata": {},
   "outputs": [
    {
     "name": "stdout",
     "output_type": "stream",
     "text": [
      "87.14 0\n"
     ]
    }
   ],
   "source": [
    "test(LogChoice(), p)"
   ]
  },
  {
   "cell_type": "code",
   "execution_count": 21,
   "metadata": {},
   "outputs": [
    {
     "name": "stdout",
     "output_type": "stream",
     "text": [
      "29.858823529411765 15\n"
     ]
    }
   ],
   "source": [
    "test(BigChoice(), p)"
   ]
  },
  {
   "cell_type": "code",
   "execution_count": null,
   "metadata": {},
   "outputs": [],
   "source": [
    "choice = LogChoice()\n",
    "choiceParameters = FixedParameters()\n",
    "problem = MinimumVertexCoverVertices(choice, choiceParameters)"
   ]
  },
  {
   "cell_type": "code",
   "execution_count": 25,
   "metadata": {},
   "outputs": [],
   "source": [
    "dataset = []"
   ]
  },
  {
   "cell_type": "code",
   "execution_count": 26,
   "metadata": {},
   "outputs": [
    {
     "name": "stdout",
     "output_type": "stream",
     "text": [
      "78\n"
     ]
    }
   ],
   "source": [
    "for i in range(300):\n",
    "    n = random.randint(1, 100)\n",
    "    graph = generate_random_graph(n)\n",
    "    m = smallest_dominating_set(graph) \n",
    "    n = greedy_dominating_set(graph)\n",
    "\n",
    "    if n > m:\n",
    "        dataset.append((graph, n))\n",
    "\n",
    "print(len(dataset))"
   ]
  },
  {
   "cell_type": "code",
   "execution_count": 27,
   "metadata": {},
   "outputs": [
    {
     "name": "stdout",
     "output_type": "stream",
     "text": [
      "[[ 1.00000000e-11 -5.81720977e-01]]\n",
      "63\n"
     ]
    }
   ],
   "source": [
    "init_positions = lambda num_particles: [np.random.random((1, 2)) * 2 - 1 for i in range(num_particles)]\n",
    "init_velocities = lambda num_particles: [np.zeros((1, 2)) for i in range(num_particles)]   \n",
    "\n",
    "def fitness(p):\n",
    "    losses = 0\n",
    "    choiceParameters.set(p[0][0], p[0][1])\n",
    "\n",
    "    for graph, greedy in dataset:\n",
    "        if problem.run(graph) >= greedy:\n",
    "            losses += 1\n",
    "\n",
    "    return losses\n",
    "\n",
    "p, score, positions, velocities = pso_solve(20, 10\n",
    "                                            , init_positions\n",
    "                                            , init_velocities\n",
    "                                            , fitness\n",
    "                                            , lambda p: choice.apply_constraints(p[0][0], p[0][1])\n",
    "                                            , lambda score: score == 0\n",
    "                                            , False\n",
    "                                            )\n",
    "\n",
    "print(p)\n",
    "print(score)"
   ]
  },
  {
   "cell_type": "code",
   "execution_count": 28,
   "metadata": {},
   "outputs": [
    {
     "name": "stdout",
     "output_type": "stream",
     "text": [
      "won: 8.355\n"
     ]
    }
   ],
   "source": [
    "count = 200\n",
    "total = 0\n",
    "\n",
    "choiceParameters.set(p[0][0], p[0][1])\n",
    "\n",
    "for j in range(count):\n",
    "    win_C = 0\n",
    "\n",
    "    for i in range(count):\n",
    "        n = random.randint(1, 200)\n",
    "        graph = generate_random_graph(n)\n",
    "        m = problem.run(graph) \n",
    "        n = greedy_dominating_set(graph)\n",
    "\n",
    "        if min(m, n) < n:\n",
    "            win_C += 1\n",
    "\n",
    "    total += win_C \n",
    "\n",
    "print(f\"won: {total/count}\")"
   ]
  },
  {
   "cell_type": "code",
   "execution_count": 13,
   "metadata": {},
   "outputs": [],
   "source": [
    "choice = LogChoice()\n",
    "\n",
    "choiceParameters = FixedParameters()\n",
    "problem = Domino(choice, choiceParameters)\n",
    "\n",
    "psoParameters = PSOParameters()\n",
    "problemFit = Domino(choice, psoParameters)"
   ]
  },
  {
   "cell_type": "code",
   "execution_count": 50,
   "metadata": {},
   "outputs": [
    {
     "name": "stdout",
     "output_type": "stream",
     "text": [
      "24 [ 1.00000000e-11 -7.79639042e-01]\n"
     ]
    }
   ],
   "source": [
    "count_fitness = 100\n",
    "\n",
    "def fitness(p):\n",
    "    losses = 0\n",
    "\n",
    "    choiceParameters.set(p[0][0], p[0][1])\n",
    "\n",
    "    for i in range(count_fitness):\n",
    "        players, main_player = random_players([bigger, hardest, random_player], 2, hardest_bigger)\n",
    "        hands = random_hands(len(players))\n",
    "        ws = problem.run(hands, players, main_player)\n",
    "\n",
    "        if isinstance(ws, int) and ws != main_player:\n",
    "            losses += 1\n",
    "        elif isinstance(ws, list) and main_player not in ws:\n",
    "            losses += 1\n",
    "\n",
    "    return losses\n",
    "\n",
    "score, p = psoParameters.fit(fitness, choice.apply_constraints, 2, 10, 25)\n",
    "print(score, p)"
   ]
  },
  {
   "cell_type": "code",
   "execution_count": 60,
   "metadata": {},
   "outputs": [
    {
     "name": "stdout",
     "output_type": "stream",
     "text": [
      "79\n"
     ]
    }
   ],
   "source": [
    "count = 200\n",
    "losses = 0\n",
    "\n",
    "for i in range(count):\n",
    "    players, main_player = random_players([bigger, hardest, random_player], 2, hardest_bigger)\n",
    "    hands = random_hands(len(players))\n",
    "    ws = problemFit.run(hands, players, main_player)\n",
    "\n",
    "    if isinstance(ws, int) and ws != main_player:\n",
    "        losses += 1\n",
    "    elif isinstance(ws, list) and main_player not in ws:\n",
    "        losses += 1\n",
    "\n",
    "print(losses)"
   ]
  },
  {
   "cell_type": "code",
   "execution_count": 3,
   "metadata": {},
   "outputs": [],
   "source": [
    "def get_sequences_from_start(list):\n",
    "    return [list[:pos + 1] for pos in range(len(list))]"
   ]
  },
  {
   "cell_type": "code",
   "execution_count": 5,
   "metadata": {},
   "outputs": [
    {
     "name": "stdout",
     "output_type": "stream",
     "text": [
      "0\n"
     ]
    },
    {
     "name": "stderr",
     "output_type": "stream",
     "text": [
      "d:\\SVD\\tesis\\Decision-Making-Optimization\\logChoice.py:16: RuntimeWarning: overflow encountered in double_scalars\n",
      "  exp = a ** (1 / b)\n"
     ]
    },
    {
     "name": "stdout",
     "output_type": "stream",
     "text": [
      "1\n",
      "2\n",
      "3\n",
      "4\n",
      "5\n",
      "6\n",
      "7\n",
      "8\n",
      "9\n",
      "10\n",
      "11\n",
      "12\n",
      "13\n",
      "14\n",
      "15\n",
      "16\n",
      "17\n",
      "18\n",
      "19\n"
     ]
    }
   ],
   "source": [
    "X, Y = [], []\n",
    "\n",
    "for c in range(20):\n",
    "    print(c)\n",
    "    players, main_player = random_players([bigger, hardest, random_player], 4, hardest_bigger)\n",
    "    hands = random_hands(len(players))\n",
    "\n",
    "    count_fitness = 20\n",
    "\n",
    "    def fitness(p):\n",
    "        losses = 0\n",
    "\n",
    "        choiceParameters.set(p[0][0], p[0][1])\n",
    "\n",
    "        for i in range(count_fitness):\n",
    "            ch = [[f for f in hand] for hand in hands]\n",
    "            ws = problem.run(ch, players, main_player)\n",
    "\n",
    "            if isinstance(ws, int) and ws != main_player:\n",
    "                losses += 1\n",
    "            elif isinstance(ws, list) and main_player not in ws:\n",
    "                losses += 1\n",
    "\n",
    "        return losses\n",
    "\n",
    "    score, p = psoParameters.fit(fitness, choice.apply_constraints, 2, 10, 25)\n",
    "\n",
    "    count = 500\n",
    "    losses = 0\n",
    "\n",
    "    for i in range(count):\n",
    "        ch = [[f for f in hand] for hand in hands]\n",
    "        ws = problemFit.run(ch, players, main_player)\n",
    "\n",
    "        if isinstance(ws, int) and ws != main_player:\n",
    "            losses += 1\n",
    "        elif isinstance(ws, list) and main_player not in ws:\n",
    "            losses += 1\n",
    "\n",
    "    if (losses / count) > (score / 20) + 0.1:\n",
    "        count_fitness = 200\n",
    "        score, p = psoParameters.fit(fitness, choice.apply_constraints, 2, 10, 25)\n",
    "\n",
    "    ch = [[f for f in hand] for hand in hands]\n",
    "    problemFit.run(ch, players, main_player)\n",
    "\n",
    "    X.extend(get_sequences_from_start(problemFit.embeddings))\n",
    "    Y.extend([p] * len(problemFit.embeddings))"
   ]
  },
  {
   "cell_type": "code",
   "execution_count": 3,
   "metadata": {},
   "outputs": [],
   "source": [
    "from pickle import load, dump\n",
    "\n",
    "with open('xy_domino', 'rb') as f:\n",
    "    X, Y = load(f)"
   ]
  },
  {
   "cell_type": "code",
   "execution_count": 4,
   "metadata": {},
   "outputs": [
    {
     "name": "stdout",
     "output_type": "stream",
     "text": [
      "169 169\n"
     ]
    }
   ],
   "source": [
    "print(len(X), len(Y))"
   ]
  },
  {
   "cell_type": "code",
   "execution_count": 7,
   "metadata": {},
   "outputs": [],
   "source": [
    "transformerParameters = TransformerParametersSVD()"
   ]
  },
  {
   "cell_type": "code",
   "execution_count": 12,
   "metadata": {},
   "outputs": [
    {
     "name": "stdout",
     "output_type": "stream",
     "text": [
      "Epoch 1/10, Loss: 0.0171\n",
      "Epoch 2/10, Loss: 0.4970\n",
      "Epoch 3/10, Loss: 0.1562\n",
      "Epoch 4/10, Loss: 0.0531\n",
      "Epoch 5/10, Loss: 0.1295\n",
      "Epoch 6/10, Loss: 0.1877\n",
      "Epoch 7/10, Loss: 0.1083\n",
      "Epoch 8/10, Loss: 0.0214\n",
      "Epoch 9/10, Loss: 0.0060\n",
      "Epoch 10/10, Loss: 0.0394\n",
      "MSE: 0.0671\n",
      "0.067133956\n"
     ]
    }
   ],
   "source": [
    "#for _ in range(50):\n",
    "preds, error = transformerParameters.train(X[:10], Y[:10])\n",
    "print(error)\n",
    "\n",
    "with open('tp_domino', 'wb') as f:\n",
    "    dump(transformerParameters, f)"
   ]
  },
  {
   "cell_type": "code",
   "execution_count": 87,
   "metadata": {},
   "outputs": [
    {
     "name": "stdout",
     "output_type": "stream",
     "text": [
      "133\n"
     ]
    }
   ],
   "source": [
    "problemTrans = Domino(choice, psoParameters)\n",
    "\n",
    "count = 200\n",
    "losses = 0\n",
    "\n",
    "for i in range(count):\n",
    "    players, main_player = random_players([bigger, hardest, random_player], 4, hardest_bigger)\n",
    "    hands = random_hands(len(players))\n",
    "    ws = problemTrans.run(hands, players, main_player)\n",
    "\n",
    "    if isinstance(ws, int) and ws != main_player:\n",
    "        losses += 1\n",
    "    elif isinstance(ws, list) and main_player not in ws:\n",
    "        losses += 1\n",
    "\n",
    "print(losses)"
   ]
  }
 ],
 "metadata": {
  "kernelspec": {
   "display_name": ".venv",
   "language": "python",
   "name": "python3"
  },
  "language_info": {
   "codemirror_mode": {
    "name": "ipython",
    "version": 3
   },
   "file_extension": ".py",
   "mimetype": "text/x-python",
   "name": "python",
   "nbconvert_exporter": "python",
   "pygments_lexer": "ipython3",
   "version": "3.9.7"
  }
 },
 "nbformat": 4,
 "nbformat_minor": 2
}
