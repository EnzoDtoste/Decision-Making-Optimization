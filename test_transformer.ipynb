{
 "cells": [
  {
   "cell_type": "code",
   "execution_count": 1,
   "metadata": {},
   "outputs": [],
   "source": [
    "from memory_reveal_cards_game import MemoryGame\n",
    "from minimum_vertex_cover_vertices import MinimumVertexCoverVertices\n",
    "from logChoice import LogChoice\n",
    "from bigChoice import BigChoice\n",
    "from fixedParameters import FixedParameters\n",
    "from transformerParameters import TransformerParametersSequential\n",
    "from pso import pso_solve\n",
    "import numpy as np\n",
    "import random\n",
    "from utils import smallest_dominating_set, greedy_dominating_set, generate_random_graph"
   ]
  },
  {
   "cell_type": "code",
   "execution_count": 2,
   "metadata": {},
   "outputs": [],
   "source": [
    "choice = LogChoice()\n",
    "choiceParameters = FixedParameters()\n",
    "problem = MemoryGame(choice, choiceParameters, 0.01, 20, 50)"
   ]
  },
  {
   "cell_type": "code",
   "execution_count": 3,
   "metadata": {},
   "outputs": [],
   "source": [
    "def fitness(p, cards):\n",
    "    total = 0\n",
    "    count = 10\n",
    "    ol = 0\n",
    "\n",
    "    choiceParameters.set(p[0][0], p[0][1])\n",
    "    \n",
    "    for i in range(count):\n",
    "        problem.prob_forget = random.random() * 0.03\n",
    "        v = problem.run(cards)\n",
    "\n",
    "        if v == problem.limit:\n",
    "            ol += 1\n",
    "        else:\n",
    "            total += v\n",
    "\n",
    "    if count > ol:\n",
    "        return ol + 2 * (total / (count - ol)) / problem.limit\n",
    "    else:\n",
    "        return ol + 2"
   ]
  },
  {
   "cell_type": "code",
   "execution_count": 4,
   "metadata": {},
   "outputs": [],
   "source": [
    "def get_sequences_from_start(list, amount):\n",
    "    pos = set()\n",
    "    n = len(list)\n",
    "\n",
    "    while len(pos) < amount:\n",
    "        pos.add(random.randint(0, n - 1))\n",
    "\n",
    "    return [list[:poss + 1] for poss in pos]"
   ]
  },
  {
   "cell_type": "code",
   "execution_count": 9,
   "metadata": {},
   "outputs": [
    {
     "name": "stderr",
     "output_type": "stream",
     "text": [
      "d:\\SVD\\tesis\\logChoice.py:11: RuntimeWarning: overflow encountered in double_scalars\n",
      "  exp = x ** (1 / b)\n"
     ]
    }
   ],
   "source": [
    "X, Y = [], []\n",
    "\n",
    "count = 10\n",
    "\n",
    "for _ in range(count):\n",
    "    init_positions = lambda num_particles: [np.random.random((1, 2)) * 2 - 1 for i in range(num_particles)]\n",
    "    init_velocities = lambda num_particles: [np.zeros((1, 2)) for i in range(num_particles)]   \n",
    "\n",
    "    cards = problem.random_cards()\n",
    "\n",
    "    p, score, positions, velocities = pso_solve(10, 10\n",
    "                                                , init_positions\n",
    "                                                , init_velocities\n",
    "                                                , lambda p: fitness(p, cards)\n",
    "                                                , lambda p: choice.apply_constraints(p[0][0], p[0][1])\n",
    "                                                , lambda score: score < 0.8\n",
    "                                                , False\n",
    "                                                )\n",
    "    \n",
    "    choiceParameters.set(p[0][0], p[0][1])\n",
    "    \n",
    "    for i in range(count):\n",
    "        problem.prob_forget = random.random() * 0.03\n",
    "        problem.run(cards)\n",
    "\n",
    "        X.extend(get_sequences_from_start(problem.embeddings, 5) + [problem.embeddings])\n",
    "        Y.extend([p[0]] * 6)"
   ]
  },
  {
   "cell_type": "code",
   "execution_count": 5,
   "metadata": {},
   "outputs": [],
   "source": [
    "from pickle import load, dump\n",
    "\n",
    "with open('xy', 'rb') as f:\n",
    "    X, Y = load(f)"
   ]
  },
  {
   "cell_type": "code",
   "execution_count": 6,
   "metadata": {},
   "outputs": [
    {
     "name": "stdout",
     "output_type": "stream",
     "text": [
      "600 600\n"
     ]
    }
   ],
   "source": [
    "print(len(X), len(Y))"
   ]
  },
  {
   "cell_type": "code",
   "execution_count": 7,
   "metadata": {},
   "outputs": [
    {
     "name": "stdout",
     "output_type": "stream",
     "text": [
      "Epoch 1/10, Loss: 1.3536\n",
      "Epoch 2/10, Loss: 0.3898\n",
      "Epoch 3/10, Loss: 0.3615\n",
      "Epoch 4/10, Loss: 0.3591\n",
      "Epoch 5/10, Loss: 0.3504\n",
      "Epoch 6/10, Loss: 0.3631\n",
      "Epoch 7/10, Loss: 0.3645\n",
      "Epoch 8/10, Loss: 0.3521\n",
      "Epoch 9/10, Loss: 0.3559\n",
      "Epoch 10/10, Loss: 0.3600\n",
      "MSE: 0.4251\n",
      "0.42510918\n"
     ]
    }
   ],
   "source": [
    "transformerParameters = TransformerParametersSequential()\n",
    "preds, error = transformerParameters.train(X, Y)\n",
    "\n",
    "print(error)"
   ]
  },
  {
   "cell_type": "code",
   "execution_count": 7,
   "metadata": {},
   "outputs": [],
   "source": [
    "with open('tp', 'rb') as f:\n",
    "    transformerParameters = load(f)"
   ]
  },
  {
   "cell_type": "code",
   "execution_count": 14,
   "metadata": {},
   "outputs": [],
   "source": [
    "def test(choice):\n",
    "    problem = MemoryGame(choice, transformerParameters, 0.03, 36, 1000)\n",
    "    total = 0\n",
    "    count = 100\n",
    "    ol = 0\n",
    "    \n",
    "    for i in range(count):\n",
    "        cards = problem.random_cards()\n",
    "        v = problem.run(cards)\n",
    "\n",
    "        if v == problem.limit:\n",
    "            ol += 1\n",
    "        else:\n",
    "            total += v\n",
    "\n",
    "    if count > ol:\n",
    "        print(total / (count - ol), ol)\n",
    "    else:\n",
    "        print(ol)"
   ]
  },
  {
   "cell_type": "code",
   "execution_count": 15,
   "metadata": {},
   "outputs": [
    {
     "name": "stdout",
     "output_type": "stream",
     "text": [
      "91.35 0\n"
     ]
    }
   ],
   "source": [
    "test(LogChoice())"
   ]
  },
  {
   "cell_type": "code",
   "execution_count": null,
   "metadata": {},
   "outputs": [],
   "source": [
    "test(BigChoice())"
   ]
  }
 ],
 "metadata": {
  "kernelspec": {
   "display_name": ".venv",
   "language": "python",
   "name": "python3"
  },
  "language_info": {
   "codemirror_mode": {
    "name": "ipython",
    "version": 3
   },
   "file_extension": ".py",
   "mimetype": "text/x-python",
   "name": "python",
   "nbconvert_exporter": "python",
   "pygments_lexer": "ipython3",
   "version": "3.9.7"
  }
 },
 "nbformat": 4,
 "nbformat_minor": 2
}
