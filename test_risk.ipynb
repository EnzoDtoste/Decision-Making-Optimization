{
 "cells": [
  {
   "cell_type": "code",
   "execution_count": 1,
   "metadata": {},
   "outputs": [],
   "source": [
    "from logChoice import LogChoice\n",
    "from fixedParameters import FixedParameters\n",
    "import random\n",
    "from metaheuristicParameters import PSOParameters\n",
    "from risk import RiskGame\n",
    "from choice import Size\n",
    "import math"
   ]
  },
  {
   "cell_type": "code",
   "execution_count": 128,
   "metadata": {},
   "outputs": [],
   "source": [
    "choice = LogChoice(epsilon=1e-1, size = Size.ALWAYS_INFINITE)\n",
    "\n",
    "choiceParameters = FixedParameters()\n",
    "problem = RiskGame(choice, choiceParameters, 1000)\n",
    "\n",
    "psoParameters = PSOParameters()\n",
    "problemFit = RiskGame(choice, psoParameters, 100000)"
   ]
  },
  {
   "cell_type": "code",
   "execution_count": 142,
   "metadata": {},
   "outputs": [
    {
     "name": "stdout",
     "output_type": "stream",
     "text": [
      "-777962 [ 0.46171013 -0.1       ]\n"
     ]
    }
   ],
   "source": [
    "def fitness(p):\n",
    "    choiceParameters.set(p[0][0], p[0][1])\n",
    "    return -1 * problem.run(lambda round: 0.5 * abs(math.sin(round)))\n",
    "\n",
    "score, p = psoParameters.fit(fitness, choice.apply_constraints, 2, 10, 25)\n",
    "print(score, p)"
   ]
  },
  {
   "cell_type": "code",
   "execution_count": 154,
   "metadata": {},
   "outputs": [
    {
     "name": "stdout",
     "output_type": "stream",
     "text": [
      "9950\n"
     ]
    }
   ],
   "source": [
    "print(problem.run(lambda round: 0.5 * abs(math.sin(round))))"
   ]
  }
 ],
 "metadata": {
  "kernelspec": {
   "display_name": ".venv",
   "language": "python",
   "name": "python3"
  },
  "language_info": {
   "codemirror_mode": {
    "name": "ipython",
    "version": 3
   },
   "file_extension": ".py",
   "mimetype": "text/x-python",
   "name": "python",
   "nbconvert_exporter": "python",
   "pygments_lexer": "ipython3",
   "version": "3.9.7"
  }
 },
 "nbformat": 4,
 "nbformat_minor": 2
}
