{
 "cells": [
  {
   "cell_type": "code",
   "execution_count": 1,
   "metadata": {},
   "outputs": [],
   "source": [
    "from src.problems.minimum_vertex_cover_vertices import MinimumVertexCoverVertices\n",
    "from src.choices.logChoice import LogChoice\n",
    "from src.choices.bigChoice import BigChoice\n",
    "from src.choicesParameters.fixedParameters import FixedParameters\n",
    "from src.choicesParameters.metaheuristicParameters import PSOParameters\n",
    "from src.choicesParameters.transformerParameters import TransformerParametersSVD\n",
    "from src.problems.utils import generate_random_graph, greedy_dominating_set, smallest_dominating_set\n",
    "import random"
   ]
  },
  {
   "cell_type": "code",
   "execution_count": 2,
   "metadata": {},
   "outputs": [],
   "source": [
    "choice = LogChoice()\n",
    "choiceParameters = FixedParameters()\n",
    "\n",
    "def fitness(p, problem : MinimumVertexCoverVertices, graph):\n",
    "    choiceParameters.set(p[0])\n",
    "    worst_case = None\n",
    "\n",
    "    for _ in range(10):\n",
    "        v = problem.run(graph)\n",
    "\n",
    "        if worst_case is None or worst_case < v:\n",
    "            worst_case = v\n",
    "    \n",
    "    return worst_case"
   ]
  },
  {
   "cell_type": "code",
   "execution_count": 3,
   "metadata": {},
   "outputs": [],
   "source": [
    "X = []\n",
    "Y = []"
   ]
  },
  {
   "cell_type": "code",
   "execution_count": 4,
   "metadata": {},
   "outputs": [],
   "source": [
    "r = []"
   ]
  },
  {
   "cell_type": "code",
   "execution_count": 5,
   "metadata": {},
   "outputs": [],
   "source": [
    "def get_sequences_from_start(list, top=4):\n",
    "    return [list[:pos + 1] for pos in range(min(top, len(list)))]"
   ]
  },
  {
   "cell_type": "code",
   "execution_count": 8,
   "metadata": {},
   "outputs": [],
   "source": [
    "problem = MinimumVertexCoverVertices(choice, choiceParameters)\n",
    "\n",
    "psoParameters = PSOParameters()\n",
    "problemFit = MinimumVertexCoverVertices(choice, psoParameters)\n",
    "\n",
    "for _ in range(300):\n",
    "    graph = generate_random_graph(random.randint(3, 50))\n",
    "\n",
    "    score, p = psoParameters.fit(lambda p : fitness(p, problem, graph), choice.apply_constraints, 2, 10, 15)\n",
    "    #print(score, p)\n",
    "    \n",
    "    r.append((graph, score))\n",
    "\n",
    "    problemFit.run(graph)\n",
    "\n",
    "    x = get_sequences_from_start(problemFit.embeddings) + [problemFit.embeddings]\n",
    "    X.extend(x)\n",
    "    Y.extend([p] * len(x))"
   ]
  },
  {
   "cell_type": "code",
   "execution_count": null,
   "metadata": {},
   "outputs": [],
   "source": [
    "newX = []\n",
    "newY = []\n",
    "\n",
    "total = 0\n",
    "equal = 0\n",
    "small = 0\n",
    "big = 0\n",
    "\n",
    "for (graph, sol), (x, y) in zip(r, zip(X, Y)):\n",
    "    m = smallest_dominating_set(graph)\n",
    "    g = greedy_dominating_set(graph)\n",
    "\n",
    "    if m < g:\n",
    "        total += 1\n",
    "\n",
    "        if sol < g:\n",
    "            small += 1\n",
    "            newX.append(x)\n",
    "            newY.append(y)\n",
    "        elif sol == g:\n",
    "            equal += 1\n",
    "        else:\n",
    "            big += 1\n",
    "\n",
    "print(total, equal, small, big, len(newX), len(newY))"
   ]
  },
  {
   "cell_type": "code",
   "execution_count": null,
   "metadata": {},
   "outputs": [],
   "source": [
    "transformerParameters = TransformerParametersSVD(2, 2)"
   ]
  },
  {
   "cell_type": "code",
   "execution_count": null,
   "metadata": {},
   "outputs": [],
   "source": [
    "preds, error = transformerParameters.train(newX, newY, 50)\n",
    "print(error)"
   ]
  },
  {
   "cell_type": "code",
   "execution_count": null,
   "metadata": {},
   "outputs": [],
   "source": [
    "problemTrans = MinimumVertexCoverVertices(choice, transformerParameters)\n",
    "\n",
    "bad_greedy = 0\n",
    "best_trans = 0\n",
    "opt_trans = 0\n",
    "\n",
    "for _ in range(100):\n",
    "    graph = generate_random_graph(random.randint(3, 50))\n",
    "\n",
    "    m = smallest_dominating_set(graph)\n",
    "    g = greedy_dominating_set(graph)\n",
    "\n",
    "    if m < g:\n",
    "        bad_greedy += 1\n",
    "\n",
    "        t = problemTrans.run(graph)\n",
    "\n",
    "        if t == m:\n",
    "            best_trans += 1\n",
    "            opt_trans += 1\n",
    "        elif t < g:\n",
    "            best_trans += 1\n",
    "\n",
    "print(bad_greedy, best_trans, opt_trans)"
   ]
  }
 ],
 "metadata": {
  "kernelspec": {
   "display_name": ".venv",
   "language": "python",
   "name": "python3"
  },
  "language_info": {
   "codemirror_mode": {
    "name": "ipython",
    "version": 3
   },
   "file_extension": ".py",
   "mimetype": "text/x-python",
   "name": "python",
   "nbconvert_exporter": "python",
   "pygments_lexer": "ipython3",
   "version": "3.9.7"
  }
 },
 "nbformat": 4,
 "nbformat_minor": 2
}
