{
 "cells": [
  {
   "cell_type": "code",
   "execution_count": 36,
   "metadata": {},
   "outputs": [],
   "source": [
    "from src.choices.inversePropChoice import InversePropChoice\n",
    "from src.choices.expChoice import ExpChoice\n",
    "from src.choices.logChoice import LogChoice\n",
    "from src.choices.mixedChoice import MixedChoice\n",
    "from src.choicesParameters.fixedParameters import FixedParameters\n",
    "from src.choicesParameters.metaheuristicParameters import PSOParameters\n",
    "from src.problems.risk import RiskGame\n",
    "import math"
   ]
  },
  {
   "cell_type": "code",
   "execution_count": 2,
   "metadata": {},
   "outputs": [],
   "source": [
    "riskFunc = lambda round: 0.8 * abs(math.sin(round))"
   ]
  },
  {
   "cell_type": "code",
   "execution_count": 3,
   "metadata": {},
   "outputs": [],
   "source": [
    "choice = InversePropChoice(epsilon=1e-11)\n",
    "\n",
    "choiceParameters = FixedParameters()\n",
    "problem = RiskGame(choice, choiceParameters, 1000)\n",
    "\n",
    "psoParameters = PSOParameters()\n",
    "problemFit = RiskGame(choice, psoParameters, 1000)"
   ]
  },
  {
   "cell_type": "code",
   "execution_count": null,
   "metadata": {},
   "outputs": [],
   "source": [
    "def fitness(p):\n",
    "    choiceParameters.set(p[0])\n",
    "    return -1 * problem.run(riskFunc)\n",
    "\n",
    "score, p = psoParameters.fit(fitness, choice.apply_constraints, 2, 10, 25)\n",
    "print(score, p)"
   ]
  },
  {
   "cell_type": "code",
   "execution_count": null,
   "metadata": {},
   "outputs": [],
   "source": [
    "def fitness(p):\n",
    "    choiceParameters.set(p[0])\n",
    "    losses = 0\n",
    "    total = 0\n",
    "    count = 20\n",
    "\n",
    "    for _ in range(count):\n",
    "        v = problem.run(riskFunc)\n",
    "        if v < 0:\n",
    "            losses += 1\n",
    "        else:\n",
    "            total += v\n",
    "\n",
    "    if losses == 0:\n",
    "        return - total / count\n",
    "    else:\n",
    "        return - total / count / (1000000000000 * losses)\n",
    "\n",
    "score, p = psoParameters.fit(fitness, choice.apply_constraints, 2, 10, 25)\n",
    "print(score, p)"
   ]
  },
  {
   "cell_type": "code",
   "execution_count": null,
   "metadata": {},
   "outputs": [],
   "source": [
    "print(problemFit.run(riskFunc))"
   ]
  },
  {
   "cell_type": "code",
   "execution_count": null,
   "metadata": {},
   "outputs": [],
   "source": [
    "losses = 0\n",
    "\n",
    "for _ in range(100):\n",
    "    if problemFit.run(riskFunc) < 0:\n",
    "        losses += 1\n",
    "\n",
    "print(losses)"
   ]
  },
  {
   "cell_type": "code",
   "execution_count": 17,
   "metadata": {},
   "outputs": [],
   "source": [
    "irs = []"
   ]
  },
  {
   "cell_type": "code",
   "execution_count": null,
   "metadata": {},
   "outputs": [],
   "source": [
    "def fitness(p):\n",
    "    choiceParameters.set(p[0])\n",
    "    losses = 0\n",
    "    total = 0\n",
    "    count = 20\n",
    "\n",
    "    for _ in range(count):\n",
    "        v = problem.run(riskFunc)\n",
    "        if v < 0:\n",
    "            losses += 1\n",
    "        else:\n",
    "            total += v\n",
    "\n",
    "    if losses == 0:\n",
    "        return - total / count\n",
    "    else:\n",
    "        return - total / count / (1000000000000 * losses)\n",
    "\n",
    "for i in [0.0, 0.1, 0.2, 0.3, 0.4, 0.5, 0.6, 0.7, 0.8, 0.9, 1.0]:\n",
    "    riskFunc = lambda round: i * abs(math.sin(round))\n",
    "    score, p = psoParameters.fit(fitness, choice.apply_constraints, 2, 10, 25)\n",
    "    print(score, p)\n",
    "\n",
    "    losses = 0\n",
    "    total = 0.0\n",
    "    count = 0.0\n",
    "\n",
    "    for _ in range(100):\n",
    "        w = problemFit.run(riskFunc)\n",
    "        if w < 0:\n",
    "            losses += 1\n",
    "        else:\n",
    "            total += w\n",
    "            count += 1\n",
    "\n",
    "    avg = total / count\n",
    "    print(losses, avg)\n",
    "    irs.append((losses, avg))\n"
   ]
  },
  {
   "cell_type": "code",
   "execution_count": 19,
   "metadata": {},
   "outputs": [],
   "source": [
    "expChoice = ExpChoice()\n",
    "psoParametersExp = PSOParameters()\n",
    "\n",
    "fixChoiceExp = FixedParameters()\n",
    "problemExp = RiskGame(expChoice, fixChoiceExp, 1000)\n",
    "\n",
    "problemExpFit = RiskGame(expChoice, psoParametersExp, 1000)"
   ]
  },
  {
   "cell_type": "code",
   "execution_count": null,
   "metadata": {},
   "outputs": [],
   "source": [
    "def fitness(p):\n",
    "    fixChoiceExp.set(p[0])\n",
    "    return -1 * problemExp.run(riskFunc)\n",
    "\n",
    "score, p = psoParametersExp.fit(fitness, expChoice.apply_constraints, expChoice.count_params(), 100, 25)\n",
    "print(score, p)"
   ]
  },
  {
   "cell_type": "code",
   "execution_count": null,
   "metadata": {},
   "outputs": [],
   "source": [
    "def fitness(p):\n",
    "    fixChoiceExp.set(p[0])\n",
    "    losses = 0\n",
    "    total = 0\n",
    "    count = 20\n",
    "\n",
    "    for _ in range(count):\n",
    "        v = problemExp.run(riskFunc)\n",
    "        if v < 0:\n",
    "            losses += 1\n",
    "        else:\n",
    "            total += v\n",
    "\n",
    "    if losses == 0:\n",
    "        return - total / count\n",
    "    else:\n",
    "        return - total / count / (1000000000000 * losses)\n",
    "\n",
    "score, p = psoParametersExp.fit(fitness, expChoice.apply_constraints, expChoice.count_params(), 10, 25)\n",
    "print(score, p)"
   ]
  },
  {
   "cell_type": "code",
   "execution_count": null,
   "metadata": {},
   "outputs": [],
   "source": [
    "print(problemExpFit.run(riskFunc))"
   ]
  },
  {
   "cell_type": "code",
   "execution_count": null,
   "metadata": {},
   "outputs": [],
   "source": [
    "losses = 0\n",
    "\n",
    "for _ in range(100):\n",
    "    if problemExpFit.run(riskFunc) < 0:\n",
    "        losses += 1\n",
    "\n",
    "print(losses)"
   ]
  },
  {
   "cell_type": "code",
   "execution_count": 33,
   "metadata": {},
   "outputs": [],
   "source": [
    "ers = []"
   ]
  },
  {
   "cell_type": "code",
   "execution_count": null,
   "metadata": {},
   "outputs": [],
   "source": [
    "def fitness(p):\n",
    "    fixChoiceExp.set(p[0])\n",
    "    losses = 0\n",
    "    total = 0\n",
    "    count = 20\n",
    "\n",
    "    for _ in range(count):\n",
    "        v = problemExp.run(riskFunc)\n",
    "        if v < 0:\n",
    "            losses += 1\n",
    "        else:\n",
    "            total += v\n",
    "\n",
    "    if losses == 0:\n",
    "        return - total / count\n",
    "    else:\n",
    "        return - total / count / (1000000000000 * losses)\n",
    "\n",
    "for i in [0.0, 0.1, 0.2, 0.3, 0.4, 0.5, 0.6, 0.7, 0.8, 0.9, 1.0]:\n",
    "    riskFunc = lambda round: i * abs(math.sin(round))\n",
    "    score, p = psoParametersExp.fit(fitness, expChoice.apply_constraints, expChoice.count_params(), 10, 25)\n",
    "    print(score, p)\n",
    "\n",
    "    losses = 0\n",
    "    total = 0.0\n",
    "    count = 0.0\n",
    "\n",
    "    for _ in range(100):\n",
    "        w = problemExpFit.run(riskFunc)\n",
    "        if w < 0:\n",
    "            losses += 1\n",
    "        else:\n",
    "            total += w\n",
    "            count += 1\n",
    "\n",
    "    avg = total / count\n",
    "    print(losses, avg)\n",
    "    ers.append((losses, avg))"
   ]
  },
  {
   "cell_type": "code",
   "execution_count": 37,
   "metadata": {},
   "outputs": [],
   "source": [
    "mixChoice = MixedChoice(LogChoice(), [ExpChoice(), InversePropChoice()])\n",
    "psoParametersMix = PSOParameters()\n",
    "\n",
    "fixChoiceMix = FixedParameters()\n",
    "problemMix = RiskGame(mixChoice, fixChoiceMix, 1000)\n",
    "\n",
    "problemMixFit = RiskGame(mixChoice, psoParametersMix, 1000)"
   ]
  },
  {
   "cell_type": "code",
   "execution_count": null,
   "metadata": {},
   "outputs": [],
   "source": [
    "def fitness(p):\n",
    "    fixChoiceMix.set(p[0])\n",
    "    return -1 * problemMix.run(riskFunc)\n",
    "\n",
    "score, p = psoParametersMix.fit(fitness, mixChoice.apply_constraints, mixChoice.count_params(), 10, 25)\n",
    "print(score, p)"
   ]
  },
  {
   "cell_type": "code",
   "execution_count": null,
   "metadata": {},
   "outputs": [],
   "source": [
    "def fitness(p):\n",
    "    fixChoiceMix.set(p[0])\n",
    "    losses = 0\n",
    "    total = 0\n",
    "    count = 40\n",
    "\n",
    "    for _ in range(count):\n",
    "        v = problemMix.run(riskFunc)\n",
    "        if v < 0:\n",
    "            losses += 1\n",
    "        else:\n",
    "            total += v\n",
    "\n",
    "    if losses == 0:\n",
    "        return - total / count\n",
    "    else:\n",
    "        return - total / count / (1000000000000 * losses)\n",
    "  \n",
    "score, p = psoParametersMix.fit(fitness, mixChoice.apply_constraints, mixChoice.count_params(), 20, 25)\n",
    "print(score, p)"
   ]
  },
  {
   "cell_type": "code",
   "execution_count": null,
   "metadata": {},
   "outputs": [],
   "source": [
    "print(problemMixFit.run(riskFunc))"
   ]
  },
  {
   "cell_type": "code",
   "execution_count": null,
   "metadata": {},
   "outputs": [],
   "source": [
    "losses = 0\n",
    "\n",
    "for _ in range(100):\n",
    "    if problemMixFit.run(riskFunc) < 0:\n",
    "        losses += 1\n",
    "\n",
    "print(losses)"
   ]
  },
  {
   "cell_type": "code",
   "execution_count": 44,
   "metadata": {},
   "outputs": [],
   "source": [
    "mrs = []"
   ]
  },
  {
   "cell_type": "code",
   "execution_count": null,
   "metadata": {},
   "outputs": [],
   "source": [
    "def fitness(p):\n",
    "    fixChoiceMix.set(p[0])\n",
    "    losses = 0\n",
    "    total = 0\n",
    "    count = 50\n",
    "\n",
    "    for _ in range(count):\n",
    "        v = problemMix.run(riskFunc)\n",
    "        if v < 0:\n",
    "            losses += 1\n",
    "        else:\n",
    "            total += v\n",
    "\n",
    "    if count > losses:\n",
    "        return - total / (count - losses) / (10 ** (losses * 100.0 / count))\n",
    "    else:\n",
    "        return 10 ** losses\n",
    "\n",
    "for i in [0.0, 0.1, 0.2, 0.3, 0.4, 0.5, 0.6, 0.7, 0.8, 0.9, 1.0]:\n",
    "    riskFunc = lambda round: i * abs(math.sin(round))\n",
    "    score, p = psoParametersMix.fit(fitness, mixChoice.apply_constraints, mixChoice.count_params(), 20, 25)\n",
    "    print(score, p)\n",
    "\n",
    "    losses = 0\n",
    "    total = 0.0\n",
    "    count = 0.0\n",
    "\n",
    "    for _ in range(100):\n",
    "        w = problemMixFit.run(riskFunc)\n",
    "        if w < 0:\n",
    "            losses += 1\n",
    "        else:\n",
    "            total += w\n",
    "            count += 1\n",
    "\n",
    "    avg = total / count\n",
    "    print(losses, avg)\n",
    "    mrs.append((losses, avg))"
   ]
  }
 ],
 "metadata": {
  "kernelspec": {
   "display_name": ".venv",
   "language": "python",
   "name": "python3"
  },
  "language_info": {
   "codemirror_mode": {
    "name": "ipython",
    "version": 3
   },
   "file_extension": ".py",
   "mimetype": "text/x-python",
   "name": "python",
   "nbconvert_exporter": "python",
   "pygments_lexer": "ipython3",
   "version": "3.9.7"
  }
 },
 "nbformat": 4,
 "nbformat_minor": 2
}
