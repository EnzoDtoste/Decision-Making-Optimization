{
 "cells": [
  {
   "cell_type": "code",
   "execution_count": 1,
   "metadata": {},
   "outputs": [],
   "source": [
    "from src.problems.minimum_vertex_cover_vertices import MinimumVertexCoverVertices\n",
    "from src.choices.logChoice import LogChoice\n",
    "from src.choices.bigChoice import BigChoice\n",
    "from src.choicesParameters.fixedParameters import FixedParameters\n",
    "from src.choicesParameters.metaheuristicParameters import PSOParameters\n",
    "from src.choicesParameters.transformerParameters import TransformerParametersSVD\n",
    "from src.problems.utils import generate_random_graph, greedy_dominating_set\n",
    "import random"
   ]
  },
  {
   "cell_type": "code",
   "execution_count": 2,
   "metadata": {},
   "outputs": [],
   "source": [
    "choice = LogChoice()\n",
    "choiceParameters = FixedParameters()\n",
    "\n",
    "def fitness(p, problem : MinimumVertexCoverVertices, graph):\n",
    "    choiceParameters.set(p[0])\n",
    "    worst_case = None\n",
    "\n",
    "    for _ in range(10):\n",
    "        v = problem.run(graph)\n",
    "\n",
    "        if worst_case is None or worst_case < v:\n",
    "            worst_case = v\n",
    "    \n",
    "    return worst_case"
   ]
  },
  {
   "cell_type": "code",
   "execution_count": 3,
   "metadata": {},
   "outputs": [],
   "source": [
    "X = []\n",
    "Y = []"
   ]
  },
  {
   "cell_type": "code",
   "execution_count": null,
   "metadata": {},
   "outputs": [],
   "source": [
    "problem = MinimumVertexCoverVertices(choice, choiceParameters)\n",
    "\n",
    "for _ in range(100):\n",
    "    graph = generate_random_graph(random.randint(3, 50))\n",
    "\n",
    "    psoParameters = PSOParameters()\n",
    "    score, p = psoParameters.fit(lambda p : fitness(p, problem, graph), choice.apply_constraints, 2, 10, 15)\n",
    "    print(score, p)\n",
    "    \n",
    "    X.extend([[problem.embeddings[0]]])\n",
    "    Y.extend([p])"
   ]
  },
  {
   "cell_type": "code",
   "execution_count": 6,
   "metadata": {},
   "outputs": [],
   "source": [
    "transformerParameters = TransformerParametersSVD(1)\n",
    "transformerParameters.remember_previous_internal_state = False"
   ]
  },
  {
   "cell_type": "code",
   "execution_count": null,
   "metadata": {},
   "outputs": [],
   "source": [
    "preds, error = transformerParameters.train(X, Y)\n",
    "print(error)"
   ]
  },
  {
   "cell_type": "code",
   "execution_count": 8,
   "metadata": {},
   "outputs": [],
   "source": [
    "def test(choice, choiceParameters):\n",
    "    problem = MinimumVertexCoverVertices(choice, choiceParameters)\n",
    "    problemGreedy = MinimumVertexCoverVertices(BigChoice(), FixedParameters())\n",
    "\n",
    "    losses = 0\n",
    "    ties = 0\n",
    "    wins = 0\n",
    "\n",
    "    for _ in range(100):\n",
    "        graph = generate_random_graph(random.randint(3, 20))\n",
    "        v = problem.run(graph)\n",
    "        g = problemGreedy.run(graph)\n",
    "\n",
    "        if v == g:\n",
    "            ties += 1\n",
    "        elif v < g:\n",
    "            wins += 1\n",
    "        else:\n",
    "            losses += 1\n",
    "\n",
    "    return losses, ties, wins"
   ]
  },
  {
   "cell_type": "code",
   "execution_count": 9,
   "metadata": {},
   "outputs": [
    {
     "name": "stdout",
     "output_type": "stream",
     "text": [
      "(10, 90, 0)\n"
     ]
    }
   ],
   "source": [
    "print(test(choice, transformerParameters))"
   ]
  }
 ],
 "metadata": {
  "kernelspec": {
   "display_name": ".venv",
   "language": "python",
   "name": "python3"
  },
  "language_info": {
   "codemirror_mode": {
    "name": "ipython",
    "version": 3
   },
   "file_extension": ".py",
   "mimetype": "text/x-python",
   "name": "python",
   "nbconvert_exporter": "python",
   "pygments_lexer": "ipython3",
   "version": "3.9.7"
  }
 },
 "nbformat": 4,
 "nbformat_minor": 2
}
