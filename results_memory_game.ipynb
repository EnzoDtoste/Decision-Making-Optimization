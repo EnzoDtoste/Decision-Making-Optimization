{
 "cells": [
  {
   "cell_type": "code",
   "execution_count": 1,
   "metadata": {},
   "outputs": [],
   "source": [
    "from src.problems.memory_reveal_cards_game import MemoryGame\n",
    "from src.choices.logChoice import LogChoice\n",
    "from src.choices.bigChoice import BigChoice\n",
    "from src.choicesParameters.fixedParameters import FixedParameters\n",
    "from src.choicesParameters.metaheuristicParameters import PSOParameters\n",
    "from src.choicesParameters.transformerParameters import TransformerParametersSVD"
   ]
  },
  {
   "cell_type": "code",
   "execution_count": 8,
   "metadata": {},
   "outputs": [],
   "source": [
    "choice = LogChoice()\n",
    "choiceParameters = FixedParameters()\n",
    "\n",
    "def fitness(p, problem):\n",
    "    total = 0\n",
    "    count = 10\n",
    "    ol = 0\n",
    "\n",
    "    choiceParameters.set(p[0])\n",
    "\n",
    "    for i in range(count):\n",
    "        cards = problem.random_cards()\n",
    "        v = problem.run(cards)\n",
    "\n",
    "        if v == problem.limit:\n",
    "            ol += 1\n",
    "        else:\n",
    "            total += v\n",
    "\n",
    "    if count > ol:\n",
    "        return ol + 2 * (total / (count - ol)) / problem.limit\n",
    "    else:\n",
    "        return ol + 2"
   ]
  },
  {
   "cell_type": "code",
   "execution_count": 3,
   "metadata": {},
   "outputs": [],
   "source": [
    "def test(choice, choiceParameters, pf):\n",
    "    problem = MemoryGame(choice, choiceParameters, pf, 20, 1000)\n",
    "    total = 0\n",
    "    count = 100\n",
    "    ol = 0\n",
    "\n",
    "    for i in range(count):\n",
    "        cards = problem.random_cards()\n",
    "        v = problem.run(cards)\n",
    "\n",
    "        if v == problem.limit:\n",
    "            ol += 1\n",
    "        else:\n",
    "            total += v\n",
    "\n",
    "    if count > ol:\n",
    "        return total / (count - ol), ol\n",
    "    else:\n",
    "        return problem.limit, ol"
   ]
  },
  {
   "cell_type": "code",
   "execution_count": 5,
   "metadata": {},
   "outputs": [],
   "source": [
    "ps = []\n",
    "rs = []"
   ]
  },
  {
   "cell_type": "code",
   "execution_count": null,
   "metadata": {},
   "outputs": [],
   "source": [
    "for pf in [0, 0.01, 0.02, 0.05, 0.1, 0.3, 0.5, 0.8, 1.0]:\n",
    "    problem = MemoryGame(choice, choiceParameters, pf, 20, 50)\n",
    "\n",
    "    psoParameters = PSOParameters()\n",
    "\n",
    "    score, p = psoParameters.fit(lambda p : fitness(p, problem), choice.apply_constraints, 2, 10, 15)\n",
    "    print(score, p)\n",
    "\n",
    "    ps.append((p[0], p[1]))\n",
    "\n",
    "    avg, ol = test(choice, psoParameters, pf)\n",
    "    print(avg, ol)\n",
    "\n",
    "    rs.append((avg, ol))"
   ]
  },
  {
   "cell_type": "code",
   "execution_count": null,
   "metadata": {},
   "outputs": [],
   "source": [
    "for pf in [i * 0.01 for i in range(10)] + [min((i + 1) * 0.1, 1.0) for i in range(10)]:\n",
    "    m = min([(abs(p - pf), p_i) for p_i, p in enumerate([0, 0.01, 0.02, 0.05, 0.1, 0.3, 0.5, 0.8, 1.0])], key=lambda v: v[0])[1]\n",
    "    choiceParameters.set(ps[m])\n",
    "    avg, ol = test(choice, choiceParameters, pf)\n",
    "    print(avg, ol)\n",
    "\n",
    "    rs.append((avg, ol))"
   ]
  },
  {
   "cell_type": "code",
   "execution_count": 10,
   "metadata": {},
   "outputs": [],
   "source": [
    "brs = []"
   ]
  },
  {
   "cell_type": "code",
   "execution_count": null,
   "metadata": {},
   "outputs": [],
   "source": [
    "bigChoice = BigChoice()\n",
    "\n",
    "for pf in [i * 0.01 for i in range(10)] + [min((i + 1) * 0.1, 1.0) for i in range(10)]:\n",
    "    avg, ol = test(bigChoice, choiceParameters, pf)\n",
    "    print(avg, ol)\n",
    "\n",
    "    brs.append((avg, ol))"
   ]
  },
  {
   "cell_type": "code",
   "execution_count": null,
   "metadata": {},
   "outputs": [],
   "source": [
    "bigChoice = BigChoice()\n",
    "\n",
    "for pf in [0, 0.01, 0.02, 0.05, 0.1, 0.3, 0.5, 0.8, 1.0]:\n",
    "    avg, ol = test(bigChoice, choiceParameters, pf)\n",
    "    print(avg, ol)\n",
    "\n",
    "    brs.append((avg, ol))"
   ]
  },
  {
   "cell_type": "code",
   "execution_count": 13,
   "metadata": {},
   "outputs": [],
   "source": [
    "def get_sequences_from_start(list, top=4):\n",
    "    return [list[:pos + 1] for pos in range(min(top, len(list)))]"
   ]
  },
  {
   "cell_type": "code",
   "execution_count": 14,
   "metadata": {},
   "outputs": [],
   "source": [
    "X = []\n",
    "Y = []"
   ]
  },
  {
   "cell_type": "code",
   "execution_count": 16,
   "metadata": {},
   "outputs": [],
   "source": [
    "for i, pf in enumerate([0, 0.01, 0.02, 0.05, 0.1, 0.3, 0.5, 0.8, 1.0]):\n",
    "    problem = MemoryGame(choice, choiceParameters, pf, 20, 50)\n",
    "    choiceParameters.set(ps[i])\n",
    "\n",
    "    cards = problem.random_cards()\n",
    "\n",
    "    for _ in range(5):\n",
    "        problem.run(cards)\n",
    "\n",
    "        x = get_sequences_from_start(problem.embeddings) + [problem.embeddings]\n",
    "        X.extend(x)\n",
    "        Y.extend([ps[i]] * len(x))"
   ]
  },
  {
   "cell_type": "code",
   "execution_count": 18,
   "metadata": {},
   "outputs": [],
   "source": [
    "transformerParameters = TransformerParametersSVD(2)"
   ]
  },
  {
   "cell_type": "code",
   "execution_count": null,
   "metadata": {},
   "outputs": [],
   "source": [
    "preds, error = transformerParameters.train(X, Y)\n",
    "print(error)"
   ]
  },
  {
   "cell_type": "code",
   "execution_count": 20,
   "metadata": {},
   "outputs": [],
   "source": [
    "trs = []"
   ]
  },
  {
   "cell_type": "code",
   "execution_count": null,
   "metadata": {},
   "outputs": [],
   "source": [
    "for pf in [i * 0.01 for i in range(10)] + [min((i + 1) * 0.1, 1.0) for i in range(10)]:\n",
    "    avg, ol = test(choice, transformerParameters, pf)\n",
    "    print(avg, ol)\n",
    "\n",
    "    trs.append((avg, ol))"
   ]
  },
  {
   "cell_type": "code",
   "execution_count": null,
   "metadata": {},
   "outputs": [],
   "source": [
    "for pf in [0, 0.01, 0.02, 0.05, 0.1, 0.3, 0.5, 0.8, 1.0]:\n",
    "    avg, ol = test(choice, transformerParameters, pf)\n",
    "    print(avg, ol)\n",
    "\n",
    "    trs.append((avg, ol))"
   ]
  },
  {
   "cell_type": "code",
   "execution_count": 88,
   "metadata": {},
   "outputs": [
    {
     "data": {
      "image/png": "[encoded data removed]",
      "text/plain": [
       "<Figure size 640x480 with 1 Axes>"
      ]
     },
     "metadata": {},
     "output_type": "display_data"
    }
   ],
   "source": [
    "import numpy as np\n",
    "import matplotlib.pyplot as plt\n",
    "\n",
    "xData = np.array([i * 0.01 for i in range(10)] + [min((i + 1) * 0.1, 1.0) for i in range(10)])\n",
    "\n",
    "fig, ax1 = plt.subplots()\n",
    "\n",
    "line1 = ax1.plot(xData, [val[0] for val in rs], 'b-', label='PSO')\n",
    "line3 = ax1.plot(xData, [val[0] for val in trs], 'r-', label='Transformer')\n",
    "\n",
    "ax1.set_ylabel('Average')\n",
    "ax1.tick_params(axis='y')\n",
    "\n",
    "all_lines = line1 + line3\n",
    "all_labels = [ln.get_label() for ln in all_lines]\n",
    "\n",
    "ax1.legend(all_lines, all_labels, loc='best')\n",
    "\n",
    "plt.xticks([0, 0.1, 0.2, 0.3, 0.4, 0.5, 0.6, 0.7, 0.8, 0.9, 1])\n",
    "\n",
    "plt.grid(True)\n",
    "plt.tight_layout()\n",
    "plt.show()\n"
   ]
  },
  {
   "cell_type": "code",
   "execution_count": 91,
   "metadata": {},
   "outputs": [
    {
     "data": {
      "image/png": "[encoded data removed]",
      "text/plain": [
       "<Figure size 640x480 with 1 Axes>"
      ]
     },
     "metadata": {},
     "output_type": "display_data"
    }
   ],
   "source": [
    "import numpy as np\n",
    "import matplotlib.pyplot as plt\n",
    "\n",
    "index_ps = 1\n",
    "\n",
    "xs = np.linspace(0, 1, 100)\n",
    "f = lambda xs, a, b: [5 * (a ** (x / b) - 1) / (a ** (1 / b) - 1) for x in xs]\n",
    "\n",
    "ys = f(xs, ps[index_ps][0], ps[index_ps][1])\n",
    "plt.plot(xs, ys)\n",
    "\n",
    "find_x = lambda v: round(xs[min([(abs(y - v), i) for i, y in enumerate(ys)])[1]], 2)\n",
    "\n",
    "ticks_positions = [0, find_x(1)]\n",
    "\n",
    "plt.xticks(ticks_positions, None)\n",
    "\n",
    "plt.grid(True)\n",
    "plt.show()"
   ]
  }
 ],
 "metadata": {
  "kernelspec": {
   "display_name": ".venv",
   "language": "python",
   "name": "python3"
  },
  "language_info": {
   "codemirror_mode": {
    "name": "ipython",
    "version": 3
   },
   "file_extension": ".py",
   "mimetype": "text/x-python",
   "name": "python",
   "nbconvert_exporter": "python",
   "pygments_lexer": "ipython3",
   "version": "3.9.7"
  }
 },
 "nbformat": 4,
 "nbformat_minor": 2
}
